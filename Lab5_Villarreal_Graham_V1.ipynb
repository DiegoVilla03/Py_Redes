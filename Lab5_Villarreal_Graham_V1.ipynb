{
 "cells": [
  {
   "cell_type": "code",
   "execution_count": 47,
   "metadata": {},
   "outputs": [],
   "source": [
    "import network as net\n",
    "import numpy as np\n",
    "import sklearn.datasets as skd\n",
    "import matplotlib.pyplot as plt\n",
    "import seaborn as sns\n",
    "from PIL import Image"
   ]
  },
  {
   "cell_type": "code",
   "execution_count": 48,
   "metadata": {},
   "outputs": [],
   "source": [
    "def number(num):\n",
    "    x = np.array(num)\n",
    "    if x.size == 64:\n",
    "        matrix = x.reshape(8,8)\n",
    "        \n",
    "        plt.figure(figsize=(4, 4))\n",
    "        sns.heatmap(matrix, cmap='gray',square=True, xticklabels=False, yticklabels=False, cbar=False)\n",
    "    else:\n",
    "        print('data in the incorrect format, array must be 64 length')"
   ]
  },
  {
   "cell_type": "code",
   "execution_count": 49,
   "metadata": {},
   "outputs": [],
   "source": [
    "def image_to_array(path):\n",
    "    # Abrir la imagen y convertirla a escala de grises\n",
    "    img = Image.open(path).convert('L')\n",
    "    \n",
    "    # Convertir la imagen a un array de NumPy\n",
    "    img_array = np.array(img)\n",
    "    \n",
    "    # Normalizar el array a la escala de 0 a 16\n",
    "    img_array_scaled = (img_array / 255) * 16\n",
    "    \n",
    "    # Redondear los valores al entero más cercano\n",
    "    img_array_scaled = np.round(img_array_scaled).astype(int)\n",
    "    \n",
    "    return img_array_scaled.flatten()"
   ]
  },
  {
   "cell_type": "code",
   "execution_count": 50,
   "metadata": {},
   "outputs": [],
   "source": [
    "data_array = skd.load_digits()\n",
    "\n",
    "# Obtener los datos como un array de NumPy\n",
    "digits = data_array.data  # Este ya es un array de NumPy\n",
    "\n",
    "# Obtener los targets como un array de NumPy\n",
    "labels = data_array.target"
   ]
  },
  {
   "cell_type": "code",
   "execution_count": 51,
   "metadata": {},
   "outputs": [
    {
     "data": {
      "text/plain": [
       "array([ 0.,  0.,  0., 12., 13.,  5.,  0.,  0.,  0.,  0.,  0., 11., 16.,\n",
       "        9.,  0.,  0.,  0.,  0.,  3., 15., 16.,  6.,  0.,  0.,  0.,  7.,\n",
       "       15., 16., 16.,  2.,  0.,  0.,  0.,  0.,  1., 16., 16.,  3.,  0.,\n",
       "        0.,  0.,  0.,  1., 16., 16.,  6.,  0.,  0.,  0.,  0.,  1., 16.,\n",
       "       16.,  6.,  0.,  0.,  0.,  0.,  0., 11., 16., 10.,  0.,  0.])"
      ]
     },
     "execution_count": 51,
     "metadata": {},
     "output_type": "execute_result"
    }
   ],
   "source": [
    "digits[1]"
   ]
  },
  {
   "cell_type": "code",
   "execution_count": 52,
   "metadata": {},
   "outputs": [],
   "source": [
    "path = r\"C:\\CODE\\Python\\Py_Redes\\data\\Example_1.png\"\n",
    "array_bn = image_to_array(path)"
   ]
  },
  {
   "cell_type": "code",
   "execution_count": 53,
   "metadata": {},
   "outputs": [
    {
     "data": {
      "text/plain": [
       "array([[ 0,  0,  0,  4, 16,  0,  0,  0],\n",
       "       [ 0,  0,  4, 16, 16,  0,  0,  0],\n",
       "       [ 0,  4, 16, 16, 16,  4,  0,  0],\n",
       "       [ 0,  0, 16, 16, 16,  4,  0,  0],\n",
       "       [ 0,  0,  0, 16, 16,  4,  0,  0],\n",
       "       [ 0,  0,  4, 16, 16,  4,  0,  0],\n",
       "       [ 0,  0,  4, 16, 16, 16,  0,  0],\n",
       "       [ 0,  0,  4, 16, 16, 16,  0,  0]])"
      ]
     },
     "execution_count": 53,
     "metadata": {},
     "output_type": "execute_result"
    }
   ],
   "source": [
    "array_bn"
   ]
  }
 ],
 "metadata": {
  "kernelspec": {
   "display_name": "Python 3",
   "language": "python",
   "name": "python3"
  },
  "language_info": {
   "codemirror_mode": {
    "name": "ipython",
    "version": 3
   },
   "file_extension": ".py",
   "mimetype": "text/x-python",
   "name": "python",
   "nbconvert_exporter": "python",
   "pygments_lexer": "ipython3",
   "version": "3.12.5"
  }
 },
 "nbformat": 4,
 "nbformat_minor": 2
}
