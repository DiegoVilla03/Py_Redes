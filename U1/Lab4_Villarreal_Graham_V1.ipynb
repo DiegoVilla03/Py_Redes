{
 "cells": [
  {
   "cell_type": "markdown",
   "metadata": {},
   "source": [
    "<h1><center><b> Laboratorio 4 </b></center></h1>\n",
    "\n",
    "- Diego Villarreal De La Cerda 173591\n",
    "- Sofia Graham Coello 174291"
   ]
  },
  {
   "cell_type": "code",
   "execution_count": 8,
   "metadata": {},
   "outputs": [],
   "source": [
    "import numpy as np"
   ]
  },
  {
   "cell_type": "code",
   "execution_count": 9,
   "metadata": {},
   "outputs": [],
   "source": [
    "# Función para el Perceptrón\n",
    "def perceptron(X, y, learning_rate=0.01, epochs=1000):\n",
    "    weights = np.zeros(X.shape[1])\n",
    "    bias = 0\n",
    "    \n",
    "    def activation_function(weighted_sum):\n",
    "        return 1 if weighted_sum >= 0 else 0\n",
    "    \n",
    "    for _ in range(epochs):\n",
    "        for inputs, label in zip(X, y):\n",
    "            weighted_sum = np.dot(inputs, weights) + bias\n",
    "            prediction = activation_function(weighted_sum)\n",
    "            error = label - prediction\n",
    "            weights += learning_rate * error * inputs\n",
    "            bias += learning_rate * error\n",
    "\n",
    "    return weights, bias\n",
    "\n",
    "# Función para predecir usando Perceptrón\n",
    "def predict_perceptron(weights, bias, inputs):\n",
    "    weighted_sum = np.dot(inputs, weights) + bias\n",
    "    return 1 if weighted_sum >= 0 else 0\n",
    "\n"
   ]
  },
  {
   "cell_type": "code",
   "execution_count": 10,
   "metadata": {},
   "outputs": [
    {
     "name": "stdout",
     "output_type": "stream",
     "text": [
      "Predicciones con Perceptrón:\n",
      "[0 0] => 0\n",
      "[0 1] => 1\n",
      "[1 0] => 1\n",
      "[1 1] => 1\n"
     ]
    }
   ],
   "source": [
    "# Datos de entrenamiento: operación lógica AND\n",
    "X = np.array([[0, 0], [0, 1], [1, 0], [1, 1]])\n",
    "y = np.array([0, 1, 1, 1])  # Salida para AND lógico\n",
    "\n",
    "# Entrenamos el Perceptrón\n",
    "weights, bias = perceptron(X, y)\n",
    "\n",
    "# Hacemos predicciones\n",
    "print(\"Predicciones con Perceptrón:\")\n",
    "for inputs in X:\n",
    "    print(f\"{inputs} => {predict_perceptron(weights, bias, inputs)}\")"
   ]
  },
  {
   "cell_type": "code",
   "execution_count": 11,
   "metadata": {},
   "outputs": [],
   "source": [
    "# Función para ADALINE\n",
    "def adaline(X, y, learning_rate=0.01, epochs=1000):\n",
    "    weights = np.zeros(X.shape[1])\n",
    "    bias = 0\n",
    "    \n",
    "    for _ in range(epochs):\n",
    "        for inputs, target in zip(X, y):\n",
    "            weighted_sum = np.dot(inputs, weights) + bias\n",
    "            error = target - weighted_sum\n",
    "            weights += learning_rate * error * inputs\n",
    "            bias += learning_rate * error\n",
    "\n",
    "    return weights, bias\n",
    "\n",
    "# Función para predecir usando ADALINE\n",
    "def predict_adaline(weights, bias, inputs):\n",
    "    epsilon = 0.01\n",
    "    output = np.dot(inputs, weights) + bias\n",
    "    return  1 if output > -(bias)+ epsilon else -1 \n",
    "\n"
   ]
  },
  {
   "cell_type": "code",
   "execution_count": 14,
   "metadata": {},
   "outputs": [
    {
     "name": "stdout",
     "output_type": "stream",
     "text": [
      "[0.43216536 0.4292736 ]\n",
      "0.4350503521071533\n",
      "Predicciones con ADALINE:\n",
      "[-1 -1] => -1\n",
      "[-1  1] => 1\n",
      "[ 1 -1] => 1\n",
      "[1 1] => 1\n"
     ]
    }
   ],
   "source": [
    "# Datos de entrenamiento: operación lógica AND\n",
    "X = np.array([[-1, -1], [-1, 1], [1, -1], [1, 1]])\n",
    "y = np.array([-1, 1, 1, 1])  # Salida para AND lógico\n",
    "\n",
    "# Entrenamos ADALINE\n",
    "weights, bias = adaline(X, y, learning_rate = 0.01, epochs=50)\n",
    "\n",
    "print(weights)\n",
    "print(bias)\n",
    "# Hacemos predicciones\n",
    "print(\"Predicciones con ADALINE:\")\n",
    "for inputs in X:\n",
    "    print(f\"{inputs} => {predict_adaline(weights, bias, inputs)}\")"
   ]
  }
 ],
 "metadata": {
  "kernelspec": {
   "display_name": "Python 3",
   "language": "python",
   "name": "python3"
  },
  "language_info": {
   "codemirror_mode": {
    "name": "ipython",
    "version": 3
   },
   "file_extension": ".py",
   "mimetype": "text/x-python",
   "name": "python",
   "nbconvert_exporter": "python",
   "pygments_lexer": "ipython3",
   "version": "3.11.2"
  }
 },
 "nbformat": 4,
 "nbformat_minor": 2
}
